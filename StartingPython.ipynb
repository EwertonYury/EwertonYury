{
  "nbformat": 4,
  "nbformat_minor": 0,
  "metadata": {
    "colab": {
      "name": "Untitled1.ipynb",
      "provenance": [],
      "authorship_tag": "ABX9TyPz9QToF6p6lNgwRfPVXxsf",
      "include_colab_link": true
    },
    "kernelspec": {
      "name": "python3",
      "display_name": "Python 3"
    },
    "language_info": {
      "name": "python"
    }
  },
  "cells": [
    {
      "cell_type": "markdown",
      "metadata": {
        "id": "view-in-github",
        "colab_type": "text"
      },
      "source": [
        "<a href=\"https://colab.research.google.com/github/EwertonYury/EwertonYury/blob/main/StartingPython.ipynb\" target=\"_parent\"><img src=\"https://colab.research.google.com/assets/colab-badge.svg\" alt=\"Open In Colab\"/></a>"
      ]
    },
    {
      "cell_type": "code",
      "execution_count": 13,
      "metadata": {
        "colab": {
          "base_uri": "https://localhost:8080/"
        },
        "id": "Ec-h7k5owapx",
        "outputId": "efec7818-97b4-456e-8ff0-c5c03a42730b"
      },
      "outputs": [
        {
          "output_type": "stream",
          "name": "stdout",
          "text": [
            "Hello World\n",
            "Qual a sua idade? 986]\n",
            "Qual seu nome? khrsegfbxc\n",
            "Bem vindo khrsegfbxc\n",
            "Bem vindo khrsegfbxc\n",
            "Bem vindo khrsegfbxc \n"
          ]
        }
      ],
      "source": [
        "print (\"Hello World\")\n",
        "\n",
        "idade = input(\"Qual a sua idade? \")\n",
        "nome = input(\"Qual seu nome? \")\n",
        "\n",
        "# Modo 1 - usando formatadores de caracteres (igual na linguagem C) para imprimir variável e texto\n",
        "print(\"Bem vindo %s\" %nome)\n",
        "\n",
        "# Modo 2 - usando a função format() para imprimir variável e texto\n",
        "print(\"Bem vindo {}\" .format(nome))\n",
        "\n",
        "# Modo 3 - usando strings formatadas\n",
        "print(f\"Bem vindo {nome} \")"
      ]
    }
  ]
}